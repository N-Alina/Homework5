{
 "cells": [
  {
   "cell_type": "markdown",
   "id": "529d3daf-0c49-4d24-a1ba-6fecbb498ca8",
   "metadata": {},
   "source": [
    "# Задача \n",
    "# Напишем функцию, которая определяет является ли словосочетание палиндромом\n",
    "### Текст состоит из нескольких слов со знаками препинания\n",
    "### is_palindrom('И черви, и лилии в речи')"
   ]
  },
  {
   "cell_type": "code",
   "execution_count": 44,
   "id": "7da31dc1-1ff0-4ac1-ac0c-ccce349f2a24",
   "metadata": {},
   "outputs": [],
   "source": [
    "import re\n",
    "def is_palindrom(phrase, use_register=False):\n",
    "    cleaned_phrase = re.sub('[!@#$\\n-.,]', '', phrase)\n",
    "    cleaned_phrase2 = ''.join(cleaned_phrase.split())\n",
    "    \"\"\"\n",
    "    Возвращает результат проверки является ли фраза phrase палиндромом.\n",
    "    use_register=True учитывает регистр букв. А в значении False - не учитывает.\n",
    "    \"\"\"\n",
    "    if not use_register:  # условие сработает если not False\n",
    "        # если use_register=False\n",
    "        cleaned_phrase2 = cleaned_phrase2.lower()\n",
    "\n",
    "    # почти всегда фунция должна что-то возвращать\n",
    "    return cleaned_phrase2 == cleaned_phrase2[::-1]"
   ]
  },
  {
   "cell_type": "code",
   "execution_count": 50,
   "id": "79e73422-d760-4a56-babe-b22c87eba031",
   "metadata": {},
   "outputs": [
    {
     "data": {
      "text/plain": [
       "True"
      ]
     },
     "execution_count": 50,
     "metadata": {},
     "output_type": "execute_result"
    }
   ],
   "source": [
    "is_palindrom('И черви, и лилии в речи')"
   ]
  }
 ],
 "metadata": {
  "kernelspec": {
   "display_name": "Python [conda env:base] *",
   "language": "python",
   "name": "conda-base-py"
  },
  "language_info": {
   "codemirror_mode": {
    "name": "ipython",
    "version": 3
   },
   "file_extension": ".py",
   "mimetype": "text/x-python",
   "name": "python",
   "nbconvert_exporter": "python",
   "pygments_lexer": "ipython3",
   "version": "3.12.7"
  }
 },
 "nbformat": 4,
 "nbformat_minor": 5
}
