{
 "cells": [
  {
   "cell_type": "markdown",
   "id": "dc2baebc-569b-401a-a3d7-4a4c18b1dc4f",
   "metadata": {},
   "source": [
    "# Задача\n",
    "## Напишем функцию, которая определяет является ли словосочетание палиндромом\n",
    "### Текст состоит из нескольких слов со знаками препинания\n",
    "### is_palindrom('И черви, и лилии в речи')\n",
    "## Совсем сложный - нужно определить палиндром в один проход по строке."
   ]
  },
  {
   "cell_type": "code",
   "execution_count": 24,
   "id": "ea62e195-3a77-4e92-a712-3f721d5c228c",
   "metadata": {},
   "outputs": [],
   "source": [
    "import re\n",
    "def is_palindrom(phrase, use_register=False):\n",
    "    cleaned_phrase = re.sub('[!@#$\\n-.,]', '', phrase)\n",
    "    cleaned_phrase2 = ''.join(cleaned_phrase.split())\n",
    "    \"\"\"\n",
    "    Возвращает результат проверки является ли фраза phrase палиндромом.\n",
    "    use_register=True учитывает регистр букв. А в значении False - не учитывает.\n",
    "    \"\"\"\n",
    "    if not use_register:  # условие сработает если not False\n",
    "        # если use_register=False\n",
    "        cleaned_phrase2 = cleaned_phrase2.lower()\n",
    "        \n",
    "    for i in range(0, int(len(cleaned_phrase2)/2)):\n",
    "    \tif cleaned_phrase2[i] != cleaned_phrase2[len(cleaned_phrase2)-i-1]:\n",
    "            return False\n",
    "    return True"
   ]
  },
  {
   "cell_type": "code",
   "execution_count": 26,
   "id": "cf05f60d-7d58-4ae7-b684-203598e2dc05",
   "metadata": {},
   "outputs": [
    {
     "data": {
      "text/plain": [
       "True"
      ]
     },
     "execution_count": 26,
     "metadata": {},
     "output_type": "execute_result"
    }
   ],
   "source": [
    "is_palindrom('И черви, и лилии в речи')"
   ]
  }
 ],
 "metadata": {
  "kernelspec": {
   "display_name": "Python [conda env:base] *",
   "language": "python",
   "name": "conda-base-py"
  },
  "language_info": {
   "codemirror_mode": {
    "name": "ipython",
    "version": 3
   },
   "file_extension": ".py",
   "mimetype": "text/x-python",
   "name": "python",
   "nbconvert_exporter": "python",
   "pygments_lexer": "ipython3",
   "version": "3.12.7"
  }
 },
 "nbformat": 4,
 "nbformat_minor": 5
}
